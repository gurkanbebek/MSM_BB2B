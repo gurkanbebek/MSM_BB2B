{
  "cells": [
    {
      "cell_type": "markdown",
      "metadata": {
        "id": "view-in-github",
        "colab_type": "text"
      },
      "source": [
        "<a href=\"https://colab.research.google.com/github/gurkanbebek/MSM_BB2B/blob/main/Intro_to_Python_Files_Data_Loading%2C_and_Basic_Plotting.ipynb\" target=\"_parent\"><img src=\"https://colab.research.google.com/assets/colab-badge.svg\" alt=\"Open In Colab\"/></a>"
      ]
    },
    {
      "cell_type": "markdown",
      "source": [
        "# Introduction to Files, Data Loading, and Basic Plotting in Python\n",
        "\n",
        "We'll cover:\n",
        "1.  **Reading and Writing Text Files**\n",
        "2.  **Loading Data from CSV (Comma Separated Values) Files**\n",
        "3.  **Basic Data Manipulation with Pandas**\n",
        "4.  **Simple Plotting with Matplotlib**\n",
        "\n",
        "Let's get started!\n",
        "\n",
        "---\n",
        "\n",
        "## 1. Reading and Writing Text Files\n",
        "\n",
        "Working with plain text files is a basic yet powerful skill.\n",
        "\n",
        "### Exercise 1.1: Writing to a File\n",
        "\n",
        "Write a Python script to create a new text file named `my_notes.txt` and write a few lines of text into it.\n",
        "\n",
        "* Open the file in 'write' mode (`'w'`).\n",
        "* Write at least three lines of text.\n",
        "* Close the file.\n",
        "\n",
        "\"\"\"\n",
        "Example:\n",
        "Line 1: \"This is my first line.\"\n",
        "Line 2: \"Learning about file I/O is fun!\"\n",
        "Line 3: \"Colab makes it easy.\"\n",
        "\"\"\""
      ],
      "metadata": {
        "id": "ZqZUYz5Imvol"
      }
    },
    {
      "cell_type": "code",
      "source": [
        "\n",
        " file_name = \"my_notes.txt\"\n",
        "with open(file_name, 'w') as file:\n",
        "    file.write(\"This is my first line.\\n\")\n",
        "    file.write(\"Learning about file I/O is fun!\\n\")\n",
        "    file.write(\"Colab makes it easy.\\n\")\n",
        "\n",
        "print(f\"File '{file_name}' created and written successfully.\")"
      ],
      "outputs": [],
      "execution_count": null,
      "metadata": {
        "id": "-QOJNqY3mb_F"
      }
    },
    {
      "cell_type": "markdown",
      "source": [
        "### Exercise 1.2: Reading from a File\n",
        "\n",
        "Now, read the content of the `my_notes.txt` file you just created and print each line to the console.\n",
        "\n",
        "* Open the file in 'read' mode (`'r'`).\n",
        "* Read the content line by line.\n",
        "* Print each line.\n",
        "* Close the file."
      ],
      "metadata": {
        "id": "wiBpQbNKmb_J"
      }
    },
    {
      "cell_type": "code",
      "source": [
        "# YOUR CODE HERE\n",
        "file_name = \"my_notes.txt\"\n",
        "print(f\"\\nContent of '{file_name}':\")\n",
        "with open(file_name, 'r') as file:\n",
        "    for line in file:\n",
        "        print(line.strip()) # .strip() removes leading/trailing whitespace, including the newline character"
      ],
      "outputs": [],
      "execution_count": null,
      "metadata": {
        "id": "7401qtqTmb_L"
      }
    },
    {
      "cell_type": "markdown",
      "source": [
        "---\n",
        "\n",
        "## 2. Loading Data from CSV (Comma Separated Values) Files\n",
        "\n",
        "CSV files are a common way to store tabular data. We'll use the `pandas` library, which is excellent for data manipulation.\n",
        "\n",
        "First, let's make sure `pandas` is installed (it usually is in Colab)."
      ],
      "metadata": {
        "id": "mh76NMHFmb_L"
      }
    },
    {
      "cell_type": "code",
      "source": [
        "!pip install pandas matplotlib"
      ],
      "outputs": [],
      "execution_count": null,
      "metadata": {
        "id": "-yKYy9ytmb_M"
      }
    },
    {
      "cell_type": "markdown",
      "source": [
        "We'll use a public dataset. For this exercise, let's use a small sample of historical stock data. We'll get it directly from GitHub.\n",
        "\n",
        "**Dataset URL:** `https://raw.githubusercontent.com/plotly/datasets/master/GOOG-ARM.csv`\n",
        "\n",
        "This CSV contains columns like `Date`, `GOOG` (Google stock price), and `ARM` (ARM Holdings stock price).\n",
        "\n",
        "### Exercise 2.1: Loading Data with Pandas\n",
        "\n",
        "Load the CSV file from the provided URL into a pandas DataFrame.\n",
        "\n",
        "* Import the `pandas` library.\n",
        "* Use `pd.read_csv()` to load the data.\n",
        "* Display the first 5 rows of the DataFrame using `.head()`.\n",
        "* Display the columns and their data types using `.info()`."
      ],
      "metadata": {
        "id": "yVLJ32iVmb_M"
      }
    },
    {
      "cell_type": "code",
      "source": [
        "import pandas as pd\n",
        "\n",
        "# Dataset URL\n",
        "data_url = \"[https://raw.githubusercontent.com/plotly/datasets/master/GOOG-ARM.csv](https://raw.githubusercontent.com/plotly/datasets/master/GOOG-ARM.csv)\"\n",
        "\n",
        "# YOUR CODE HERE\n",
        "df = pd.read_csv(data_url)\n",
        "\n",
        "print(\"First 5 rows of the DataFrame:\")\n",
        "print(df.head())\n",
        "\n",
        "print(\"\\nDataFrame Info:\")\n",
        "df.info()"
      ],
      "outputs": [],
      "execution_count": null,
      "metadata": {
        "id": "uA68HajImb_N"
      }
    },
    {
      "cell_type": "markdown",
      "source": [
        "### Exercise 2.2: Accessing and Reading Specific Columns (Numbers)\n",
        "\n",
        "From the loaded DataFrame, extract the 'GOOG' (Google stock price) column and display its first 10 values. Also, calculate and print the average 'GOOG' stock price."
      ],
      "metadata": {
        "id": "zy6LUdcLmb_N"
      }
    },
    {
      "cell_type": "code",
      "source": [
        "# YOUR CODE HERE\n",
        "goog_prices = df['GOOG']\n",
        "\n",
        "print(\"\\nFirst 10 GOOG stock prices:\")\n",
        "print(goog_prices.head(10))\n",
        "\n",
        "average_goog_price = goog_prices.mean()\n",
        "print(f\"\\nAverage GOOG stock price: ${average_goog_price:.2f}\")"
      ],
      "outputs": [],
      "execution_count": null,
      "metadata": {
        "id": "FUVj6nMNmb_O"
      }
    },
    {
      "cell_type": "markdown",
      "source": [
        "---\n",
        "\n",
        "## 3. Basic Plotting with Matplotlib\n",
        "\n",
        "`matplotlib` is the most popular plotting library in Python. We'll create a simple line plot of the Google stock prices over time.\n",
        "\n",
        "### Exercise 3.1: Simple Line Plot\n",
        "\n",
        "Plot the 'GOOG' stock prices against the 'Date' column.\n",
        "\n",
        "* Import the `matplotlib.pyplot` library, commonly aliased as `plt`.\n",
        "* Convert the 'Date' column to datetime objects using `pd.to_datetime()` (this is good practice for time-series plotting).\n",
        "* Create a line plot.\n",
        "* Add a title to your plot.\n",
        "* Label the x-axis and y-axis.\n",
        "* Display the plot."
      ],
      "metadata": {
        "id": "UNAJgKCymb_O"
      }
    },
    {
      "cell_type": "code",
      "source": [
        "import matplotlib.pyplot as plt\n",
        "\n",
        "# Ensure 'Date' column is in datetime format\n",
        "df['Date'] = pd.to_datetime(df['Date'])\n",
        "\n",
        "# YOUR CODE HERE\n",
        "plt.figure(figsize=(10, 6)) # Optional: set figure size for better readability\n",
        "plt.plot(df['Date'], df['GOOG'])\n",
        "plt.title('Google Stock Price Over Time')\n",
        "plt.xlabel('Date')\n",
        "plt.ylabel('GOOG Stock Price ($)')\n",
        "plt.grid(True) # Optional: Add a grid for better readability\n",
        "plt.show()"
      ],
      "outputs": [],
      "execution_count": null,
      "metadata": {
        "id": "hZO5ariMmb_O"
      }
    },
    {
      "cell_type": "markdown",
      "source": [
        "### Exercise 3.2: Plotting Multiple Lines\n",
        "\n",
        "Now, plot both 'GOOG' and 'ARM' stock prices on the same chart to compare their trends.\n",
        "\n",
        "* Use `plt.plot()` twice, once for each stock.\n",
        "* Add a legend to distinguish between the lines.\n",
        "* Adjust the title and labels as appropriate."
      ],
      "metadata": {
        "id": "TararZakmb_P"
      }
    },
    {
      "cell_type": "code",
      "source": [
        "# YOUR CODE HERE\n",
        "plt.figure(figsize=(12, 7))\n",
        "plt.plot(df['Date'], df['GOOG'], label='Google (GOOG)')\n",
        "plt.plot(df['Date'], df['ARM'], label='ARM Holdings (ARM)')\n",
        "\n",
        "plt.title('Google vs. ARM Stock Prices Over Time')\n",
        "plt.xlabel('Date')\n",
        "plt.ylabel('Stock Price ($)')\n",
        "plt.legend() # Display the legend with labels\n",
        "plt.grid(True)\n",
        "plt.show()"
      ],
      "outputs": [],
      "execution_count": null,
      "metadata": {
        "id": "ltXc11JZmb_P"
      }
    },
    {
      "cell_type": "markdown",
      "source": [
        "---\n",
        "\n",
        "## Conclusion\n",
        "\n",
        "Congratulations! You've completed introductory exercises on:\n",
        "* Reading from and writing to text files.\n",
        "* Loading and inspecting data using the `pandas` library.\n",
        "* Extracting numerical data.\n",
        "* Creating basic and multi-line plots with `matplotlib`.\n",
        "\n",
        "These skills form the bedrock for more advanced data analysis and visualization in Python. Keep practicing!\n",
        "\"\"\"\n",
        "\n",
        "  ```"
      ],
      "metadata": {
        "id": "8jxuYHoVmb_P"
      }
    }
  ],
  "metadata": {
    "colab": {
      "provenance": [],
      "include_colab_link": true
    },
    "kernelspec": {
      "display_name": "Python 3",
      "name": "python3"
    }
  },
  "nbformat": 4,
  "nbformat_minor": 0
}