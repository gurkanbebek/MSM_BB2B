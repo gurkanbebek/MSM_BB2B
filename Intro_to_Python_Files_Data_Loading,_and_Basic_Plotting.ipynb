{
  "cells": [
    {
      "cell_type": "markdown",
      "metadata": {
        "id": "view-in-github",
        "colab_type": "text"
      },
      "source": [
        "<a href=\"https://colab.research.google.com/github/gurkanbebek/MSM_BB2B/blob/main/Intro_to_Python_Files_Data_Loading%2C_and_Basic_Plotting.ipynb\" target=\"_parent\"><img src=\"https://colab.research.google.com/assets/colab-badge.svg\" alt=\"Open In Colab\"/></a>"
      ]
    },
    {
      "cell_type": "markdown",
      "source": [
        "# Introduction to Files, Data Loading, and Basic Plotting in Python\n",
        "\n",
        "We'll cover:\n",
        "1.  **Reading and Writing Text Files**\n",
        "2.  **Loading Data from CSV (Comma Separated Values) Files**\n",
        "3.  **Basic Data Manipulation with Pandas**\n",
        "4.  **Simple Plotting with Matplotlib**\n",
        "\n",
        "Let's get started!\n",
        "\n",
        "---\n",
        "\n",
        "## 1. Reading and Writing Text Files\n",
        "\n",
        "Working with plain text files is a basic yet powerful skill.\n",
        "\n",
        "### Exercise 1.1: Writing to a File\n",
        "\n",
        "Write a Python script to create a new text file named `my_notes.txt` and write a few lines of text into it.\n",
        "\n",
        "* Open the file in 'write' mode (`'w'`).\n",
        "* Write at least three lines of text.\n",
        "* Close the file.\n",
        "\n",
        "\"\"\"\n",
        "Example:\n",
        "Line 1: \"This is my first line.\"\n",
        "Line 2: \"Learning about file I/O is fun!\"\n",
        "Line 3: \"Colab makes it easy.\"\n",
        "\"\"\""
      ],
      "metadata": {
        "id": "ZqZUYz5Imvol"
      }
    },
    {
      "cell_type": "code",
      "source": [
        "\n",
        " file_name = \"my_notes.txt\"\n",
        "with open(file_name, 'w') as file:\n",
        "    file.write(\"This is my first line.\\n\")\n",
        "    file.write(\"Learning about file I/O is fun!\\n\")\n",
        "    file.write(\"Colab makes it easy.\\n\")\n",
        "\n",
        "print(f\"File '{file_name}' created and written successfully.\")"
      ],
      "outputs": [
        {
          "output_type": "stream",
          "name": "stdout",
          "text": [
            "File 'my_notes.txt' created and written successfully.\n"
          ]
        }
      ],
      "execution_count": 14,
      "metadata": {
        "id": "-QOJNqY3mb_F",
        "colab": {
          "base_uri": "https://localhost:8080/"
        },
        "outputId": "9e2fd16a-5dbb-4d51-c6b3-58d1d6deefce"
      }
    },
    {
      "cell_type": "markdown",
      "source": [
        "### Exercise 1.2: Reading from a File\n",
        "\n",
        "Now, read the content of the `my_notes.txt` file you just created and print each line to the console.\n",
        "\n",
        "* Open the file in 'read' mode (`'r'`).\n",
        "* Read the content line by line.\n",
        "* Print each line.\n",
        "* Close the file."
      ],
      "metadata": {
        "id": "wiBpQbNKmb_J"
      }
    },
    {
      "cell_type": "code",
      "source": [
        "# YOUR CODE HERE\n",
        "file_name = \"my_notes.txt\"\n",
        "print(f\"\\nContent of '{file_name}':\")\n",
        "with open(file_name, 'r') as file:\n",
        "    for line in file:\n",
        "        print(line.strip()) # .strip() removes leading/trailing whitespace, including the newline character"
      ],
      "outputs": [
        {
          "output_type": "stream",
          "name": "stdout",
          "text": [
            "\n",
            "Content of 'my_notes.txt':\n",
            "This is my first line.\n",
            "Learning about file I/O is fun!\n",
            "Colab makes it easy.\n"
          ]
        }
      ],
      "execution_count": 15,
      "metadata": {
        "id": "7401qtqTmb_L",
        "colab": {
          "base_uri": "https://localhost:8080/"
        },
        "outputId": "e300e9a9-3715-4e1c-c4c8-70452f040d61"
      }
    },
    {
      "cell_type": "markdown",
      "source": [
        "---\n",
        "\n",
        "## 2. Loading Data from CSV (Comma Separated Values) Files\n",
        "\n",
        "CSV files are a common way to store tabular data. We'll use the `pandas` library, which is excellent for data manipulation.\n",
        "\n",
        "First, let's make sure `pandas` is installed (it usually is in Colab)."
      ],
      "metadata": {
        "id": "mh76NMHFmb_L"
      }
    },
    {
      "cell_type": "markdown",
      "source": [
        "We'll use a public dataset. For this exercise, let's use a small sample of historical stock data. We'll get it directly from GitHub.\n",
        "\n",
        "**Dataset URL:** `https://raw.githubusercontent.com/plotly/datasets/master/GOOG-ARM.csv`\n",
        "\n",
        "This CSV contains columns like `Date`, `GOOG` (Google stock price), and `ARM` (ARM Holdings stock price).\n",
        "\n",
        "### Exercise 2.1: Loading Data with Pandas\n",
        "\n",
        "Load the CSV file from the provided URL into a pandas DataFrame.\n",
        "\n",
        "* Import the `pandas` library.\n",
        "* Use `pd.read_csv()` to load the data.\n",
        "* Display the first 5 rows of the DataFrame using `.head()`.\n",
        "* Display the columns and their data types using `.info()`."
      ],
      "metadata": {
        "id": "yVLJ32iVmb_M"
      }
    },
    {
      "cell_type": "code",
      "source": [
        "import pandas as pd\n",
        "\n",
        "# Dataset URL\n",
        "data_url = \"https://raw.githubusercontent.com/plotly/datasets/refs/heads/master/2010_alcohol_consumption_by_country.csv\"\n",
        "\n",
        "# YOUR CODE HERE\n",
        "df = pd.read_csv(data_url)\n",
        "\n",
        "print(\"First 5 rows of the DataFrame:\")\n",
        "print(df.head())\n",
        "\n",
        "print(\"\\nDataFrame Info:\")\n",
        "df.info()"
      ],
      "outputs": [
        {
          "output_type": "stream",
          "name": "stdout",
          "text": [
            "First 5 rows of the DataFrame:\n",
            "    location  alcohol\n",
            "0    Belarus     17.5\n",
            "1    Moldova     16.8\n",
            "2  Lithuania     15.4\n",
            "3     Russia     15.1\n",
            "4    Romania     14.4\n",
            "\n",
            "DataFrame Info:\n",
            "<class 'pandas.core.frame.DataFrame'>\n",
            "RangeIndex: 191 entries, 0 to 190\n",
            "Data columns (total 2 columns):\n",
            " #   Column    Non-Null Count  Dtype  \n",
            "---  ------    --------------  -----  \n",
            " 0   location  191 non-null    object \n",
            " 1   alcohol   191 non-null    float64\n",
            "dtypes: float64(1), object(1)\n",
            "memory usage: 3.1+ KB\n"
          ]
        }
      ],
      "execution_count": 16,
      "metadata": {
        "id": "uA68HajImb_N",
        "colab": {
          "base_uri": "https://localhost:8080/"
        },
        "outputId": "d7df1dde-ca3b-4cbb-fafd-f0bbdead558c"
      }
    },
    {
      "cell_type": "code",
      "source": [],
      "metadata": {
        "id": "uWRYarSnsXtI"
      },
      "execution_count": null,
      "outputs": []
    },
    {
      "cell_type": "markdown",
      "source": [
        "Downlaod This file and create a summary:\n",
        "https://raw.githubusercontent.com/fivethirtyeight/data/refs/heads/master/covid-geography/mmsa-icu-beds.csv\n"
      ],
      "metadata": {
        "id": "eTi_jFR7sYWE"
      }
    },
    {
      "cell_type": "code",
      "source": [],
      "metadata": {
        "id": "2Gn1wmEBsasj"
      },
      "execution_count": 25,
      "outputs": []
    }
  ],
  "metadata": {
    "colab": {
      "provenance": [],
      "include_colab_link": true
    },
    "kernelspec": {
      "display_name": "Python 3",
      "name": "python3"
    }
  },
  "nbformat": 4,
  "nbformat_minor": 0
}