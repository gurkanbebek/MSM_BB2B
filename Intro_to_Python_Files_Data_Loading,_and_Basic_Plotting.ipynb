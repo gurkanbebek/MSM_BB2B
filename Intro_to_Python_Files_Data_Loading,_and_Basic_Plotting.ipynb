{
  "cells": [
    {
      "cell_type": "markdown",
      "metadata": {
        "id": "view-in-github",
        "colab_type": "text"
      },
      "source": [
        "<a href=\"https://colab.research.google.com/github/gurkanbebek/MSM_BB2B/blob/main/Intro_to_Python_Files_Data_Loading%2C_and_Basic_Plotting.ipynb\" target=\"_parent\"><img src=\"https://colab.research.google.com/assets/colab-badge.svg\" alt=\"Open In Colab\"/></a>"
      ]
    },
    {
      "cell_type": "markdown",
      "source": [
        "# Introduction to Files, Data Loading, and Basic Plotting in Python\n",
        "\n",
        "We'll cover:\n",
        "1.  **Reading and Writing Text Files**\n",
        "2.  **Loading Data from CSV (Comma Separated Values) Files**\n",
        "3.  **Basic Data Manipulation with Pandas**\n",
        "4.  **Simple Plotting with Matplotlib**\n",
        "\n",
        "Let's get started!\n",
        "\n",
        "---\n",
        "\n",
        "## 1. Reading and Writing Text Files\n",
        "\n",
        "Working with plain text files is a basic yet powerful skill.\n",
        "\n",
        "### Exercise 1.1: Writing to a File\n",
        "\n",
        "Write a Python script to create a new text file named `my_notes.txt` and write a few lines of text into it.\n",
        "\n",
        "* Open the file in 'write' mode (`'w'`).\n",
        "* Write at least three lines of text.\n",
        "* Close the file.\n",
        "\n",
        "\"\"\"\n",
        "Example:\n",
        "Line 1: \"This is my first line.\"\n",
        "Line 2: \"Learning about file I/O is fun!\"\n",
        "Line 3: \"Colab makes it easy.\"\n",
        "\"\"\""
      ],
      "metadata": {
        "id": "ZqZUYz5Imvol"
      }
    },
    {
      "cell_type": "code",
      "source": [
        "\n",
        " file_name = \"my_notes.txt\"\n",
        "with open(file_name, 'w') as file:\n",
        "    file.write(\"This is my first line.\\n\")\n",
        "    file.write(\"Learning about file I/O is fun!\\n\")\n",
        "    file.write(\"Colab makes it easy.\\n\")\n",
        "\n",
        "print(f\"File '{file_name}' created and written successfully.\")"
      ],
      "outputs": [
        {
          "output_type": "stream",
          "name": "stdout",
          "text": [
            "File 'my_notes.txt' created and written successfully.\n"
          ]
        }
      ],
      "execution_count": 1,
      "metadata": {
        "id": "-QOJNqY3mb_F",
        "outputId": "b6d12446-c2e8-46aa-87d6-e49f4e230845",
        "colab": {
          "base_uri": "https://localhost:8080/"
        }
      }
    },
    {
      "cell_type": "markdown",
      "source": [
        "### Exercise 1.2: Reading from a File\n",
        "\n",
        "Now, read the content of the `my_notes.txt` file you just created and print each line to the console.\n",
        "\n",
        "* Open the file in 'read' mode (`'r'`).\n",
        "* Read the content line by line.\n",
        "* Print each line.\n",
        "* Close the file."
      ],
      "metadata": {
        "id": "wiBpQbNKmb_J"
      }
    },
    {
      "cell_type": "code",
      "source": [
        "# YOUR CODE HERE\n",
        "file_name = \"my_notes.txt\"\n",
        "print(f\"\\nContent of '{file_name}':\")\n",
        "with open(file_name, 'r') as file:\n",
        "    for line in file:\n",
        "        print(line.strip()) # .strip() removes leading/trailing whitespace, including the newline character"
      ],
      "outputs": [
        {
          "output_type": "stream",
          "name": "stdout",
          "text": [
            "\n",
            "Content of 'my_notes.txt':\n",
            "This is my first line.\n",
            "Learning about file I/O is fun!\n",
            "Colab makes it easy.\n"
          ]
        }
      ],
      "execution_count": 2,
      "metadata": {
        "id": "7401qtqTmb_L",
        "outputId": "f79364e2-bb39-4628-d2cd-9b008eac8a98",
        "colab": {
          "base_uri": "https://localhost:8080/"
        }
      }
    },
    {
      "cell_type": "markdown",
      "source": [
        "---\n",
        "\n",
        "## 2. Loading Data from CSV (Comma Separated Values) Files\n",
        "\n",
        "CSV files are a common way to store tabular data. We'll use the `pandas` library, which is excellent for data manipulation.\n",
        "\n",
        "First, let's make sure `pandas` is installed (it usually is in Colab)."
      ],
      "metadata": {
        "id": "mh76NMHFmb_L"
      }
    },
    {
      "cell_type": "code",
      "source": [
        "!pip install pandas matplotlib"
      ],
      "outputs": [
        {
          "output_type": "stream",
          "name": "stdout",
          "text": [
            "Requirement already satisfied: pandas in /usr/local/lib/python3.11/dist-packages (2.2.2)\n",
            "Requirement already satisfied: matplotlib in /usr/local/lib/python3.11/dist-packages (3.10.0)\n",
            "Requirement already satisfied: numpy>=1.23.2 in /usr/local/lib/python3.11/dist-packages (from pandas) (2.0.2)\n",
            "Requirement already satisfied: python-dateutil>=2.8.2 in /usr/local/lib/python3.11/dist-packages (from pandas) (2.9.0.post0)\n",
            "Requirement already satisfied: pytz>=2020.1 in /usr/local/lib/python3.11/dist-packages (from pandas) (2025.2)\n",
            "Requirement already satisfied: tzdata>=2022.7 in /usr/local/lib/python3.11/dist-packages (from pandas) (2025.2)\n",
            "Requirement already satisfied: contourpy>=1.0.1 in /usr/local/lib/python3.11/dist-packages (from matplotlib) (1.3.2)\n",
            "Requirement already satisfied: cycler>=0.10 in /usr/local/lib/python3.11/dist-packages (from matplotlib) (0.12.1)\n",
            "Requirement already satisfied: fonttools>=4.22.0 in /usr/local/lib/python3.11/dist-packages (from matplotlib) (4.58.4)\n",
            "Requirement already satisfied: kiwisolver>=1.3.1 in /usr/local/lib/python3.11/dist-packages (from matplotlib) (1.4.8)\n",
            "Requirement already satisfied: packaging>=20.0 in /usr/local/lib/python3.11/dist-packages (from matplotlib) (24.2)\n",
            "Requirement already satisfied: pillow>=8 in /usr/local/lib/python3.11/dist-packages (from matplotlib) (11.2.1)\n",
            "Requirement already satisfied: pyparsing>=2.3.1 in /usr/local/lib/python3.11/dist-packages (from matplotlib) (3.2.3)\n",
            "Requirement already satisfied: six>=1.5 in /usr/local/lib/python3.11/dist-packages (from python-dateutil>=2.8.2->pandas) (1.17.0)\n"
          ]
        }
      ],
      "execution_count": 3,
      "metadata": {
        "id": "-yKYy9ytmb_M",
        "outputId": "f6c73da6-8699-4145-b675-2095a02a50bf",
        "colab": {
          "base_uri": "https://localhost:8080/"
        }
      }
    },
    {
      "cell_type": "markdown",
      "source": [
        "We'll use a public dataset. For this exercise, let's use a small sample of historical stock data. We'll get it directly from GitHub.\n",
        "\n",
        "**Dataset URL:** `https://raw.githubusercontent.com/plotly/datasets/master/GOOG-ARM.csv`\n",
        "\n",
        "This CSV contains columns like `Date`, `GOOG` (Google stock price), and `ARM` (ARM Holdings stock price).\n",
        "\n",
        "### Exercise 2.1: Loading Data with Pandas\n",
        "\n",
        "Load the CSV file from the provided URL into a pandas DataFrame.\n",
        "\n",
        "* Import the `pandas` library.\n",
        "* Use `pd.read_csv()` to load the data.\n",
        "* Display the first 5 rows of the DataFrame using `.head()`.\n",
        "* Display the columns and their data types using `.info()`."
      ],
      "metadata": {
        "id": "yVLJ32iVmb_M"
      }
    },
    {
      "cell_type": "code",
      "source": [
        "import pandas as pd\n",
        "\n",
        "# Dataset URL\n",
        "data_url = \"[https://github.com/plotly/datasets/blob/master/2010_alcohol_consumption_by_country.csv](https://github.com/plotly/datasets/blob/master/2010_alcohol_consumption_by_country.csv)\"\n",
        "\n",
        "# YOUR CODE HERE\n",
        "df = pd.read_csv(data_url)\n",
        "\n",
        "print(\"First 5 rows of the DataFrame:\")\n",
        "print(df.head())\n",
        "\n",
        "print(\"\\nDataFrame Info:\")\n",
        "df.info()"
      ],
      "outputs": [
        {
          "output_type": "error",
          "ename": "FileNotFoundError",
          "evalue": "[Errno 2] No such file or directory: '[https://raw.githubusercontent.com/plotly/datasets/master/GOOG-ARM.csv](https://raw.githubusercontent.com/plotly/datasets/master/GOOG-ARM.csv)'",
          "traceback": [
            "\u001b[0;31m---------------------------------------------------------------------------\u001b[0m",
            "\u001b[0;31mFileNotFoundError\u001b[0m                         Traceback (most recent call last)",
            "\u001b[0;32m/tmp/ipython-input-4-3454749371.py\u001b[0m in \u001b[0;36m<cell line: 0>\u001b[0;34m()\u001b[0m\n\u001b[1;32m      5\u001b[0m \u001b[0;34m\u001b[0m\u001b[0m\n\u001b[1;32m      6\u001b[0m \u001b[0;31m# YOUR CODE HERE\u001b[0m\u001b[0;34m\u001b[0m\u001b[0;34m\u001b[0m\u001b[0m\n\u001b[0;32m----> 7\u001b[0;31m \u001b[0mdf\u001b[0m \u001b[0;34m=\u001b[0m \u001b[0mpd\u001b[0m\u001b[0;34m.\u001b[0m\u001b[0mread_csv\u001b[0m\u001b[0;34m(\u001b[0m\u001b[0mdata_url\u001b[0m\u001b[0;34m)\u001b[0m\u001b[0;34m\u001b[0m\u001b[0;34m\u001b[0m\u001b[0m\n\u001b[0m\u001b[1;32m      8\u001b[0m \u001b[0;34m\u001b[0m\u001b[0m\n\u001b[1;32m      9\u001b[0m \u001b[0mprint\u001b[0m\u001b[0;34m(\u001b[0m\u001b[0;34m\"First 5 rows of the DataFrame:\"\u001b[0m\u001b[0;34m)\u001b[0m\u001b[0;34m\u001b[0m\u001b[0;34m\u001b[0m\u001b[0m\n",
            "\u001b[0;32m/usr/local/lib/python3.11/dist-packages/pandas/io/parsers/readers.py\u001b[0m in \u001b[0;36mread_csv\u001b[0;34m(filepath_or_buffer, sep, delimiter, header, names, index_col, usecols, dtype, engine, converters, true_values, false_values, skipinitialspace, skiprows, skipfooter, nrows, na_values, keep_default_na, na_filter, verbose, skip_blank_lines, parse_dates, infer_datetime_format, keep_date_col, date_parser, date_format, dayfirst, cache_dates, iterator, chunksize, compression, thousands, decimal, lineterminator, quotechar, quoting, doublequote, escapechar, comment, encoding, encoding_errors, dialect, on_bad_lines, delim_whitespace, low_memory, memory_map, float_precision, storage_options, dtype_backend)\u001b[0m\n\u001b[1;32m   1024\u001b[0m     \u001b[0mkwds\u001b[0m\u001b[0;34m.\u001b[0m\u001b[0mupdate\u001b[0m\u001b[0;34m(\u001b[0m\u001b[0mkwds_defaults\u001b[0m\u001b[0;34m)\u001b[0m\u001b[0;34m\u001b[0m\u001b[0;34m\u001b[0m\u001b[0m\n\u001b[1;32m   1025\u001b[0m \u001b[0;34m\u001b[0m\u001b[0m\n\u001b[0;32m-> 1026\u001b[0;31m     \u001b[0;32mreturn\u001b[0m \u001b[0m_read\u001b[0m\u001b[0;34m(\u001b[0m\u001b[0mfilepath_or_buffer\u001b[0m\u001b[0;34m,\u001b[0m \u001b[0mkwds\u001b[0m\u001b[0;34m)\u001b[0m\u001b[0;34m\u001b[0m\u001b[0;34m\u001b[0m\u001b[0m\n\u001b[0m\u001b[1;32m   1027\u001b[0m \u001b[0;34m\u001b[0m\u001b[0m\n\u001b[1;32m   1028\u001b[0m \u001b[0;34m\u001b[0m\u001b[0m\n",
            "\u001b[0;32m/usr/local/lib/python3.11/dist-packages/pandas/io/parsers/readers.py\u001b[0m in \u001b[0;36m_read\u001b[0;34m(filepath_or_buffer, kwds)\u001b[0m\n\u001b[1;32m    618\u001b[0m \u001b[0;34m\u001b[0m\u001b[0m\n\u001b[1;32m    619\u001b[0m     \u001b[0;31m# Create the parser.\u001b[0m\u001b[0;34m\u001b[0m\u001b[0;34m\u001b[0m\u001b[0m\n\u001b[0;32m--> 620\u001b[0;31m     \u001b[0mparser\u001b[0m \u001b[0;34m=\u001b[0m \u001b[0mTextFileReader\u001b[0m\u001b[0;34m(\u001b[0m\u001b[0mfilepath_or_buffer\u001b[0m\u001b[0;34m,\u001b[0m \u001b[0;34m**\u001b[0m\u001b[0mkwds\u001b[0m\u001b[0;34m)\u001b[0m\u001b[0;34m\u001b[0m\u001b[0;34m\u001b[0m\u001b[0m\n\u001b[0m\u001b[1;32m    621\u001b[0m \u001b[0;34m\u001b[0m\u001b[0m\n\u001b[1;32m    622\u001b[0m     \u001b[0;32mif\u001b[0m \u001b[0mchunksize\u001b[0m \u001b[0;32mor\u001b[0m \u001b[0miterator\u001b[0m\u001b[0;34m:\u001b[0m\u001b[0;34m\u001b[0m\u001b[0;34m\u001b[0m\u001b[0m\n",
            "\u001b[0;32m/usr/local/lib/python3.11/dist-packages/pandas/io/parsers/readers.py\u001b[0m in \u001b[0;36m__init__\u001b[0;34m(self, f, engine, **kwds)\u001b[0m\n\u001b[1;32m   1618\u001b[0m \u001b[0;34m\u001b[0m\u001b[0m\n\u001b[1;32m   1619\u001b[0m         \u001b[0mself\u001b[0m\u001b[0;34m.\u001b[0m\u001b[0mhandles\u001b[0m\u001b[0;34m:\u001b[0m \u001b[0mIOHandles\u001b[0m \u001b[0;34m|\u001b[0m \u001b[0;32mNone\u001b[0m \u001b[0;34m=\u001b[0m \u001b[0;32mNone\u001b[0m\u001b[0;34m\u001b[0m\u001b[0;34m\u001b[0m\u001b[0m\n\u001b[0;32m-> 1620\u001b[0;31m         \u001b[0mself\u001b[0m\u001b[0;34m.\u001b[0m\u001b[0m_engine\u001b[0m \u001b[0;34m=\u001b[0m \u001b[0mself\u001b[0m\u001b[0;34m.\u001b[0m\u001b[0m_make_engine\u001b[0m\u001b[0;34m(\u001b[0m\u001b[0mf\u001b[0m\u001b[0;34m,\u001b[0m \u001b[0mself\u001b[0m\u001b[0;34m.\u001b[0m\u001b[0mengine\u001b[0m\u001b[0;34m)\u001b[0m\u001b[0;34m\u001b[0m\u001b[0;34m\u001b[0m\u001b[0m\n\u001b[0m\u001b[1;32m   1621\u001b[0m \u001b[0;34m\u001b[0m\u001b[0m\n\u001b[1;32m   1622\u001b[0m     \u001b[0;32mdef\u001b[0m \u001b[0mclose\u001b[0m\u001b[0;34m(\u001b[0m\u001b[0mself\u001b[0m\u001b[0;34m)\u001b[0m \u001b[0;34m->\u001b[0m \u001b[0;32mNone\u001b[0m\u001b[0;34m:\u001b[0m\u001b[0;34m\u001b[0m\u001b[0;34m\u001b[0m\u001b[0m\n",
            "\u001b[0;32m/usr/local/lib/python3.11/dist-packages/pandas/io/parsers/readers.py\u001b[0m in \u001b[0;36m_make_engine\u001b[0;34m(self, f, engine)\u001b[0m\n\u001b[1;32m   1878\u001b[0m                 \u001b[0;32mif\u001b[0m \u001b[0;34m\"b\"\u001b[0m \u001b[0;32mnot\u001b[0m \u001b[0;32min\u001b[0m \u001b[0mmode\u001b[0m\u001b[0;34m:\u001b[0m\u001b[0;34m\u001b[0m\u001b[0;34m\u001b[0m\u001b[0m\n\u001b[1;32m   1879\u001b[0m                     \u001b[0mmode\u001b[0m \u001b[0;34m+=\u001b[0m \u001b[0;34m\"b\"\u001b[0m\u001b[0;34m\u001b[0m\u001b[0;34m\u001b[0m\u001b[0m\n\u001b[0;32m-> 1880\u001b[0;31m             self.handles = get_handle(\n\u001b[0m\u001b[1;32m   1881\u001b[0m                 \u001b[0mf\u001b[0m\u001b[0;34m,\u001b[0m\u001b[0;34m\u001b[0m\u001b[0;34m\u001b[0m\u001b[0m\n\u001b[1;32m   1882\u001b[0m                 \u001b[0mmode\u001b[0m\u001b[0;34m,\u001b[0m\u001b[0;34m\u001b[0m\u001b[0;34m\u001b[0m\u001b[0m\n",
            "\u001b[0;32m/usr/local/lib/python3.11/dist-packages/pandas/io/common.py\u001b[0m in \u001b[0;36mget_handle\u001b[0;34m(path_or_buf, mode, encoding, compression, memory_map, is_text, errors, storage_options)\u001b[0m\n\u001b[1;32m    871\u001b[0m         \u001b[0;32mif\u001b[0m \u001b[0mioargs\u001b[0m\u001b[0;34m.\u001b[0m\u001b[0mencoding\u001b[0m \u001b[0;32mand\u001b[0m \u001b[0;34m\"b\"\u001b[0m \u001b[0;32mnot\u001b[0m \u001b[0;32min\u001b[0m \u001b[0mioargs\u001b[0m\u001b[0;34m.\u001b[0m\u001b[0mmode\u001b[0m\u001b[0;34m:\u001b[0m\u001b[0;34m\u001b[0m\u001b[0;34m\u001b[0m\u001b[0m\n\u001b[1;32m    872\u001b[0m             \u001b[0;31m# Encoding\u001b[0m\u001b[0;34m\u001b[0m\u001b[0;34m\u001b[0m\u001b[0m\n\u001b[0;32m--> 873\u001b[0;31m             handle = open(\n\u001b[0m\u001b[1;32m    874\u001b[0m                 \u001b[0mhandle\u001b[0m\u001b[0;34m,\u001b[0m\u001b[0;34m\u001b[0m\u001b[0;34m\u001b[0m\u001b[0m\n\u001b[1;32m    875\u001b[0m                 \u001b[0mioargs\u001b[0m\u001b[0;34m.\u001b[0m\u001b[0mmode\u001b[0m\u001b[0;34m,\u001b[0m\u001b[0;34m\u001b[0m\u001b[0;34m\u001b[0m\u001b[0m\n",
            "\u001b[0;31mFileNotFoundError\u001b[0m: [Errno 2] No such file or directory: '[https://raw.githubusercontent.com/plotly/datasets/master/GOOG-ARM.csv](https://raw.githubusercontent.com/plotly/datasets/master/GOOG-ARM.csv)'"
          ]
        }
      ],
      "execution_count": 4,
      "metadata": {
        "id": "uA68HajImb_N",
        "outputId": "24e70ae9-d4cb-4af1-a02d-f3c15eb1b4aa",
        "colab": {
          "base_uri": "https://localhost:8080/",
          "height": 391
        }
      }
    },
    {
      "cell_type": "markdown",
      "source": [
        "### Exercise 2.2: Accessing and Reading Specific Columns (Numbers)\n",
        "\n",
        "From the loaded DataFrame, extract the 'GOOG' (Google stock price) column and display its first 10 values. Also, calculate and print the average 'GOOG' stock price."
      ],
      "metadata": {
        "id": "zy6LUdcLmb_N"
      }
    },
    {
      "cell_type": "code",
      "source": [
        "# YOUR CODE HERE\n",
        "goog_prices = df['GOOG']\n",
        "\n",
        "print(\"\\nFirst 10 GOOG stock prices:\")\n",
        "print(goog_prices.head(10))\n",
        "\n",
        "average_goog_price = goog_prices.mean()\n",
        "print(f\"\\nAverage GOOG stock price: ${average_goog_price:.2f}\")"
      ],
      "outputs": [],
      "execution_count": null,
      "metadata": {
        "id": "FUVj6nMNmb_O"
      }
    },
    {
      "cell_type": "markdown",
      "source": [
        "---\n",
        "\n",
        "## 3. Basic Plotting with Matplotlib\n",
        "\n",
        "`matplotlib` is the most popular plotting library in Python. We'll create a simple line plot of the Google stock prices over time.\n",
        "\n",
        "### Exercise 3.1: Simple Line Plot\n",
        "\n",
        "Plot the 'GOOG' stock prices against the 'Date' column.\n",
        "\n",
        "* Import the `matplotlib.pyplot` library, commonly aliased as `plt`.\n",
        "* Convert the 'Date' column to datetime objects using `pd.to_datetime()` (this is good practice for time-series plotting).\n",
        "* Create a line plot.\n",
        "* Add a title to your plot.\n",
        "* Label the x-axis and y-axis.\n",
        "* Display the plot."
      ],
      "metadata": {
        "id": "UNAJgKCymb_O"
      }
    },
    {
      "cell_type": "code",
      "source": [
        "import matplotlib.pyplot as plt\n",
        "\n",
        "# Ensure 'Date' column is in datetime format\n",
        "df['Date'] = pd.to_datetime(df['Date'])\n",
        "\n",
        "# YOUR CODE HERE\n",
        "plt.figure(figsize=(10, 6)) # Optional: set figure size for better readability\n",
        "plt.plot(df['Date'], df['GOOG'])\n",
        "plt.title('Google Stock Price Over Time')\n",
        "plt.xlabel('Date')\n",
        "plt.ylabel('GOOG Stock Price ($)')\n",
        "plt.grid(True) # Optional: Add a grid for better readability\n",
        "plt.show()"
      ],
      "outputs": [],
      "execution_count": null,
      "metadata": {
        "id": "hZO5ariMmb_O"
      }
    },
    {
      "cell_type": "markdown",
      "source": [
        "### Exercise 3.2: Plotting Multiple Lines\n",
        "\n",
        "Now, plot both 'GOOG' and 'ARM' stock prices on the same chart to compare their trends.\n",
        "\n",
        "* Use `plt.plot()` twice, once for each stock.\n",
        "* Add a legend to distinguish between the lines.\n",
        "* Adjust the title and labels as appropriate."
      ],
      "metadata": {
        "id": "TararZakmb_P"
      }
    },
    {
      "cell_type": "code",
      "source": [
        "# YOUR CODE HERE\n",
        "plt.figure(figsize=(12, 7))\n",
        "plt.plot(df['Date'], df['GOOG'], label='Google (GOOG)')\n",
        "plt.plot(df['Date'], df['ARM'], label='ARM Holdings (ARM)')\n",
        "\n",
        "plt.title('Google vs. ARM Stock Prices Over Time')\n",
        "plt.xlabel('Date')\n",
        "plt.ylabel('Stock Price ($)')\n",
        "plt.legend() # Display the legend with labels\n",
        "plt.grid(True)\n",
        "plt.show()"
      ],
      "outputs": [],
      "execution_count": null,
      "metadata": {
        "id": "ltXc11JZmb_P"
      }
    },
    {
      "cell_type": "markdown",
      "source": [
        "---\n",
        "\n",
        "## Conclusion\n",
        "\n",
        "Congratulations! You've completed introductory exercises on:\n",
        "* Reading from and writing to text files.\n",
        "* Loading and inspecting data using the `pandas` library.\n",
        "* Extracting numerical data.\n",
        "* Creating basic and multi-line plots with `matplotlib`.\n",
        "\n",
        "These skills form the bedrock for more advanced data analysis and visualization in Python. Keep practicing!\n",
        "\"\"\"\n",
        "\n",
        "  ```"
      ],
      "metadata": {
        "id": "8jxuYHoVmb_P"
      }
    }
  ],
  "metadata": {
    "colab": {
      "provenance": [],
      "include_colab_link": true
    },
    "kernelspec": {
      "display_name": "Python 3",
      "name": "python3"
    }
  },
  "nbformat": 4,
  "nbformat_minor": 0
}