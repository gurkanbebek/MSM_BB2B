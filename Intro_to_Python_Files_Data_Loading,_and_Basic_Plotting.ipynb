{
  "cells": [
    {
      "cell_type": "markdown",
      "metadata": {
        "id": "view-in-github",
        "colab_type": "text"
      },
      "source": [
        "<a href=\"https://colab.research.google.com/github/gurkanbebek/MSM_BB2B/blob/main/Intro_to_Python_Files_Data_Loading%2C_and_Basic_Plotting.ipynb\" target=\"_parent\"><img src=\"https://colab.research.google.com/assets/colab-badge.svg\" alt=\"Open In Colab\"/></a>"
      ]
    },
    {
      "cell_type": "markdown",
      "source": [
        "# Introduction to Files, Data Loading, and Basic Plotting in Python\n",
        "\n",
        "We'll cover:\n",
        "1.  **Reading and Writing Text Files**\n",
        "2.  **Loading Data from CSV (Comma Separated Values) Files**\n",
        "3.  **Basic Data Manipulation with Pandas**\n",
        "4.  **Simple Plotting with Matplotlib**\n",
        "\n",
        "Let's get started!\n",
        "\n",
        "---\n",
        "\n",
        "## 1. Reading and Writing Text Files\n",
        "\n",
        "Working with plain text files is a basic yet powerful skill.\n",
        "\n",
        "### Exercise 1.1: Writing to a File\n",
        "\n",
        "Write a Python script to create a new text file named `my_notes.txt` and write a few lines of text into it.\n",
        "\n",
        "* Open the file in 'write' mode (`'w'`).\n",
        "* Write at least three lines of text.\n",
        "* Close the file.\n",
        "\n",
        "\"\"\"\n",
        "Example:\n",
        "Line 1: \"This is my first line.\"\n",
        "Line 2: \"Learning about file I/O is fun!\"\n",
        "Line 3: \"Colab makes it easy.\"\n",
        "\"\"\""
      ],
      "metadata": {
        "id": "ZqZUYz5Imvol"
      }
    },
    {
      "cell_type": "code",
      "source": [
        "\n",
        " file_name = \"my_notes.txt\"\n",
        "with open(file_name, 'w') as file:\n",
        "    file.write(\"This is my first line.\\n\")\n",
        "    file.write(\"Learning about file I/O is fun!\\n\")\n",
        "    file.write(\"Colab makes it easy.\\n\")\n",
        "\n",
        "print(f\"File '{file_name}' created and written successfully.\")"
      ],
      "outputs": [
        {
          "output_type": "stream",
          "name": "stdout",
          "text": [
            "File 'my_notes.txt' created and written successfully.\n"
          ]
        }
      ],
      "execution_count": 14,
      "metadata": {
        "id": "-QOJNqY3mb_F",
        "colab": {
          "base_uri": "https://localhost:8080/"
        },
        "outputId": "9e2fd16a-5dbb-4d51-c6b3-58d1d6deefce"
      }
    },
    {
      "cell_type": "markdown",
      "source": [
        "### Exercise 1.2: Reading from a File\n",
        "\n",
        "Now, read the content of the `my_notes.txt` file you just created and print each line to the console.\n",
        "\n",
        "* Open the file in 'read' mode (`'r'`).\n",
        "* Read the content line by line.\n",
        "* Print each line.\n",
        "* Close the file."
      ],
      "metadata": {
        "id": "wiBpQbNKmb_J"
      }
    },
    {
      "cell_type": "code",
      "source": [
        "# YOUR CODE HERE\n",
        "file_name = \"my_notes.txt\"\n",
        "print(f\"\\nContent of '{file_name}':\")\n",
        "with open(file_name, 'r') as file:\n",
        "    for line in file:\n",
        "        print(line.strip()) # .strip() removes leading/trailing whitespace, including the newline character"
      ],
      "outputs": [
        {
          "output_type": "stream",
          "name": "stdout",
          "text": [
            "\n",
            "Content of 'my_notes.txt':\n",
            "This is my first line.\n",
            "Learning about file I/O is fun!\n",
            "Colab makes it easy.\n"
          ]
        }
      ],
      "execution_count": 15,
      "metadata": {
        "id": "7401qtqTmb_L",
        "colab": {
          "base_uri": "https://localhost:8080/"
        },
        "outputId": "e300e9a9-3715-4e1c-c4c8-70452f040d61"
      }
    },
    {
      "cell_type": "markdown",
      "source": [
        "---\n",
        "\n",
        "## 2. Loading Data from CSV (Comma Separated Values) Files\n",
        "\n",
        "CSV files are a common way to store tabular data. We'll use the `pandas` library, which is excellent for data manipulation.\n",
        "\n",
        "First, let's make sure `pandas` is installed (it usually is in Colab)."
      ],
      "metadata": {
        "id": "mh76NMHFmb_L"
      }
    },
    {
      "cell_type": "markdown",
      "source": [
        "We'll use a public dataset. For this exercise, let's use a small sample of historical stock data. We'll get it directly from GitHub.\n",
        "\n",
        "**Dataset URL:** `https://raw.githubusercontent.com/plotly/datasets/master/GOOG-ARM.csv`\n",
        "\n",
        "This CSV contains columns like `Date`, `GOOG` (Google stock price), and `ARM` (ARM Holdings stock price).\n",
        "\n",
        "### Exercise 2.1: Loading Data with Pandas\n",
        "\n",
        "Load the CSV file from the provided URL into a pandas DataFrame.\n",
        "\n",
        "* Import the `pandas` library.\n",
        "* Use `pd.read_csv()` to load the data.\n",
        "* Display the first 5 rows of the DataFrame using `.head()`.\n",
        "* Display the columns and their data types using `.info()`."
      ],
      "metadata": {
        "id": "yVLJ32iVmb_M"
      }
    },
    {
      "cell_type": "code",
      "source": [
        "import pandas as pd\n",
        "\n",
        "# Dataset URL\n",
        "data_url = \"https://raw.githubusercontent.com/plotly/datasets/refs/heads/master/2010_alcohol_consumption_by_country.csv\"\n",
        "\n",
        "# YOUR CODE HERE\n",
        "df = pd.read_csv(data_url)\n",
        "\n",
        "print(\"First 5 rows of the DataFrame:\")\n",
        "print(df.head())\n",
        "\n",
        "print(\"\\nDataFrame Info:\")\n",
        "df.info()"
      ],
      "outputs": [
        {
          "output_type": "stream",
          "name": "stdout",
          "text": [
            "First 5 rows of the DataFrame:\n",
            "    location  alcohol\n",
            "0    Belarus     17.5\n",
            "1    Moldova     16.8\n",
            "2  Lithuania     15.4\n",
            "3     Russia     15.1\n",
            "4    Romania     14.4\n",
            "\n",
            "DataFrame Info:\n",
            "<class 'pandas.core.frame.DataFrame'>\n",
            "RangeIndex: 191 entries, 0 to 190\n",
            "Data columns (total 2 columns):\n",
            " #   Column    Non-Null Count  Dtype  \n",
            "---  ------    --------------  -----  \n",
            " 0   location  191 non-null    object \n",
            " 1   alcohol   191 non-null    float64\n",
            "dtypes: float64(1), object(1)\n",
            "memory usage: 3.1+ KB\n"
          ]
        }
      ],
      "execution_count": 16,
      "metadata": {
        "id": "uA68HajImb_N",
        "colab": {
          "base_uri": "https://localhost:8080/"
        },
        "outputId": "d7df1dde-ca3b-4cbb-fafd-f0bbdead558c"
      }
    },
    {
      "cell_type": "code",
      "source": [],
      "metadata": {
        "id": "uWRYarSnsXtI"
      },
      "execution_count": null,
      "outputs": []
    },
    {
      "cell_type": "markdown",
      "source": [
        "Downlaod This file and create a summary:\n",
        "https://raw.githubusercontent.com/fivethirtyeight/data/refs/heads/master/covid-geography/mmsa-icu-beds.csv\n"
      ],
      "metadata": {
        "id": "eTi_jFR7sYWE"
      }
    },
    {
      "cell_type": "markdown",
      "source": [
        "## Step 1: Import Pandas and Load the Data\n",
        "First, you need to import the pandas library, which is essential for working with DataFrames. Then, use the pd.read_csv() function to load the data directly from the provided URL into a DataFrame.\n",
        "\n"
      ],
      "metadata": {
        "id": "x-VYTv3es_ht"
      }
    },
    {
      "cell_type": "code",
      "source": [
        "import pandas as pd\n",
        "\n",
        "# Define the URL of the dataset\n",
        "data_url = \"https://raw.githubusercontent.com/fivethirtyeight/data/refs/heads/master/covid-geography/mmsa-icu-beds.csv\"\n",
        "\n",
        "# Load the data into a Pandas DataFrame\n",
        "# YOUR CODE HERE\n",
        "df_icu_beds = pd.read_csv(data_url)\n",
        "\n",
        "print(df_icu_beds.head())\n",
        "\n",
        "print(\"Data loaded successfully!\")\n"
      ],
      "metadata": {
        "colab": {
          "base_uri": "https://localhost:8080/"
        },
        "id": "2Gn1wmEBsasj",
        "outputId": "ee174519-04fc-42b7-aecd-a9095debb00c"
      },
      "execution_count": 27,
      "outputs": [
        {
          "output_type": "stream",
          "name": "stdout",
          "text": [
            "                                       MMSA total_percent_at_risk  \\\n",
            "0              San Juan-Carolina-Caguas, PR                52.88%   \n",
            "1                             Manhattan, KS                47.29%   \n",
            "2  Hilton Head Island-Bluffton-Beaufort, SC                62.72%   \n",
            "3               Kahului-Wailuku-Lahaina, HI                59.13%   \n",
            "4                           Spartanburg, SC                66.12%   \n",
            "\n",
            "   high_risk_per_ICU_bed  high_risk_per_hospital  icu_beds  hospitals  \\\n",
            "0                    NaN                     NaN       NaN        NaN   \n",
            "1            4489.848750               8979.6975       8.0        4.0   \n",
            "2            3904.163571              36438.8600      28.0        3.0   \n",
            "3            3860.557000              19302.7850      20.0        4.0   \n",
            "4            3786.115556              85187.6000      45.0        2.0   \n",
            "\n",
            "   total_at_risk  \n",
            "0     923725.203  \n",
            "1      35918.790  \n",
            "2     109316.580  \n",
            "3      77211.140  \n",
            "4     170375.200  \n",
            "Data loaded successfully!\n"
          ]
        }
      ]
    },
    {
      "cell_type": "markdown",
      "source": [
        "Use the .info() method."
      ],
      "metadata": {
        "id": "E6u6-mOstFHV"
      }
    },
    {
      "cell_type": "code",
      "source": [
        "df_icu_beds.info()"
      ],
      "metadata": {
        "id": "tOtb3vxFuAKp",
        "outputId": "2853cc24-6db9-45e7-b6b4-3d5df7fcb0cb",
        "colab": {
          "base_uri": "https://localhost:8080/"
        }
      },
      "execution_count": 28,
      "outputs": [
        {
          "output_type": "stream",
          "name": "stdout",
          "text": [
            "<class 'pandas.core.frame.DataFrame'>\n",
            "RangeIndex: 136 entries, 0 to 135\n",
            "Data columns (total 7 columns):\n",
            " #   Column                  Non-Null Count  Dtype  \n",
            "---  ------                  --------------  -----  \n",
            " 0   MMSA                    136 non-null    object \n",
            " 1   total_percent_at_risk   136 non-null    object \n",
            " 2   high_risk_per_ICU_bed   135 non-null    float64\n",
            " 3   high_risk_per_hospital  135 non-null    float64\n",
            " 4   icu_beds                135 non-null    float64\n",
            " 5   hospitals               135 non-null    float64\n",
            " 6   total_at_risk           136 non-null    float64\n",
            "dtypes: float64(5), object(2)\n",
            "memory usage: 7.6+ KB\n"
          ]
        }
      ]
    },
    {
      "cell_type": "markdown",
      "source": [
        "Step 4: Access a Specific Column"
      ],
      "metadata": {
        "id": "RQXUGEJauS0t"
      }
    },
    {
      "cell_type": "code",
      "source": [
        "\n",
        "df_icu_beds['MMSA']\n"
      ],
      "metadata": {
        "id": "VFwaqYqFuUyg",
        "outputId": "7c823c66-49b1-4a51-9962-c6eb8d3895ff",
        "colab": {
          "base_uri": "https://localhost:8080/",
          "height": 458
        }
      },
      "execution_count": 29,
      "outputs": [
        {
          "output_type": "execute_result",
          "data": {
            "text/plain": [
              "0                  San Juan-Carolina-Caguas, PR\n",
              "1                                 Manhattan, KS\n",
              "2      Hilton Head Island-Bluffton-Beaufort, SC\n",
              "3                   Kahului-Wailuku-Lahaina, HI\n",
              "4                               Spartanburg, SC\n",
              "                         ...                   \n",
              "131                              Charleston, WV\n",
              "132                               Duluth, MN-WI\n",
              "133                                    Reno, NV\n",
              "134                             Gainesville, FL\n",
              "135                               Rochester, MN\n",
              "Name: MMSA, Length: 136, dtype: object"
            ],
            "text/html": [
              "<div>\n",
              "<style scoped>\n",
              "    .dataframe tbody tr th:only-of-type {\n",
              "        vertical-align: middle;\n",
              "    }\n",
              "\n",
              "    .dataframe tbody tr th {\n",
              "        vertical-align: top;\n",
              "    }\n",
              "\n",
              "    .dataframe thead th {\n",
              "        text-align: right;\n",
              "    }\n",
              "</style>\n",
              "<table border=\"1\" class=\"dataframe\">\n",
              "  <thead>\n",
              "    <tr style=\"text-align: right;\">\n",
              "      <th></th>\n",
              "      <th>MMSA</th>\n",
              "    </tr>\n",
              "  </thead>\n",
              "  <tbody>\n",
              "    <tr>\n",
              "      <th>0</th>\n",
              "      <td>San Juan-Carolina-Caguas, PR</td>\n",
              "    </tr>\n",
              "    <tr>\n",
              "      <th>1</th>\n",
              "      <td>Manhattan, KS</td>\n",
              "    </tr>\n",
              "    <tr>\n",
              "      <th>2</th>\n",
              "      <td>Hilton Head Island-Bluffton-Beaufort, SC</td>\n",
              "    </tr>\n",
              "    <tr>\n",
              "      <th>3</th>\n",
              "      <td>Kahului-Wailuku-Lahaina, HI</td>\n",
              "    </tr>\n",
              "    <tr>\n",
              "      <th>4</th>\n",
              "      <td>Spartanburg, SC</td>\n",
              "    </tr>\n",
              "    <tr>\n",
              "      <th>...</th>\n",
              "      <td>...</td>\n",
              "    </tr>\n",
              "    <tr>\n",
              "      <th>131</th>\n",
              "      <td>Charleston, WV</td>\n",
              "    </tr>\n",
              "    <tr>\n",
              "      <th>132</th>\n",
              "      <td>Duluth, MN-WI</td>\n",
              "    </tr>\n",
              "    <tr>\n",
              "      <th>133</th>\n",
              "      <td>Reno, NV</td>\n",
              "    </tr>\n",
              "    <tr>\n",
              "      <th>134</th>\n",
              "      <td>Gainesville, FL</td>\n",
              "    </tr>\n",
              "    <tr>\n",
              "      <th>135</th>\n",
              "      <td>Rochester, MN</td>\n",
              "    </tr>\n",
              "  </tbody>\n",
              "</table>\n",
              "<p>136 rows × 1 columns</p>\n",
              "</div><br><label><b>dtype:</b> object</label>"
            ]
          },
          "metadata": {},
          "execution_count": 29
        }
      ]
    },
    {
      "cell_type": "markdown",
      "source": [
        "Step 5: Calculate a Basic Statistic\n"
      ],
      "metadata": {
        "id": "5itNdwpUupLF"
      }
    },
    {
      "cell_type": "code",
      "source": [
        "icu_beds_counts = df_icu_beds['icu_beds']\n",
        "\n",
        "icu_beds_counts.mean().round()\n"
      ],
      "metadata": {
        "id": "k5St3pbDuouK",
        "outputId": "e1a6efe1-91d1-4286-a8d0-21a8c31070c0",
        "colab": {
          "base_uri": "https://localhost:8080/"
        }
      },
      "execution_count": 34,
      "outputs": [
        {
          "output_type": "execute_result",
          "data": {
            "text/plain": [
              "np.float64(360.18518518518516)"
            ]
          },
          "metadata": {},
          "execution_count": 34
        }
      ]
    },
    {
      "cell_type": "markdown",
      "source": [],
      "metadata": {
        "id": "ZNqGq0G4uvfs"
      }
    },
    {
      "cell_type": "code",
      "source": [
        "import matplotlib.pyplot as plt\n",
        "\n",
        "plt.figure(figsize=(6,4))\n",
        "plt.hist(icu_beds_counts,bins=20,edgecolor=\"black\",color=\"red\")\n",
        "plt.title(\"Distribution of ICU Beds per 100k Population\")\n",
        "plt.xlabel(\"ICU Beds per 100k People\")\n",
        "plt.ylabel(\"Number of MMSAs\")\n",
        "plt.grid(axis=\"y\",alpha=0.5)"
      ],
      "metadata": {
        "id": "U8_XkQqCwuC8"
      },
      "execution_count": null,
      "outputs": []
    },
    {
      "cell_type": "code",
      "source": [
        "import matplotlib.pyplot as plt\n",
        "\n",
        "plt.figure(figsize=(6,4))\n",
        "plt.hist(df_icu_beds['hospitals'],bins=5,edgecolor=\"black\",color=\"skyblue\")\n",
        "plt.title(\"Distribution of Hospitals per 100k Population\")\n",
        "plt.xlabel(\"Hospitals per 100k People\")\n",
        "plt.ylabel(\"Number of MMSAs\")\n",
        "plt.grid(axis=\"y\",alpha=0.3)"
      ],
      "metadata": {
        "id": "V_20Oq9gyfQt",
        "outputId": "52faf567-3d47-43be-978f-36f5b979ea0c",
        "colab": {
          "base_uri": "https://localhost:8080/",
          "height": 410
        }
      },
      "execution_count": 45,
      "outputs": [
        {
          "output_type": "display_data",
          "data": {
            "text/plain": [
              "<Figure size 600x400 with 1 Axes>"
            ],
            "image/png": "[encoded data removed]"
          },
          "metadata": {}
        }
      ]
    },
    {
      "cell_type": "markdown",
      "source": [
        "Top 10 MMSAs by Total ICU Beds (Bar Chart)"
      ],
      "metadata": {
        "id": "CL32RTx6zDAH"
      }
    },
    {
      "cell_type": "code",
      "source": [
        "import matplotlib.pyplot as plt\n",
        "# Sort data\n",
        "sorted_icu_beds = df_icu_beds.sort_values(by='icu_beds',ascending=False)\n",
        "# find the top 10\n",
        "top10_icu_beds = sorted_icu_beds.head(10)\n",
        "#top10_icu_beds.info()\n",
        "# create a figure\n",
        "plt.figure(figsize=(7,5))\n",
        "\n",
        "plt.barh(top10_icu_beds['MMSA'],top10_icu_beds['icu_beds'])\n",
        "plt.gca().invert_yaxis()\n",
        "plt.tight_layout()\n"
      ],
      "metadata": {
        "id": "Vv1BQhf0zEWE",
        "outputId": "b09812b7-f3d1-4375-86a6-7d73dd98fade",
        "colab": {
          "base_uri": "https://localhost:8080/",
          "height": 507
        }
      },
      "execution_count": 59,
      "outputs": [
        {
          "output_type": "display_data",
          "data": {
            "text/plain": [
              "<Figure size 700x500 with 1 Axes>"
            ],
            "image/png": "[encoded data removed]"
          },
          "metadata": {}
        }
      ]
    },
    {
      "cell_type": "code",
      "source": [
        "\n",
        "\n",
        "plt.figure(figsize=(5,4))\n",
        "plt.scatter(df_icu_beds['total_at_risk'],df_icu_beds['icu_beds'])\n",
        "\n",
        "plt.xscale('log')\n",
        "plt.yscale('log')"
      ],
      "metadata": {
        "id": "YFJkG2mTzKwf",
        "outputId": "a0e5d53f-2232-4877-be5d-b0c893b37ed4",
        "colab": {
          "base_uri": "https://localhost:8080/",
          "height": 373
        }
      },
      "execution_count": 62,
      "outputs": [
        {
          "output_type": "display_data",
          "data": {
            "text/plain": [
              "<Figure size 500x400 with 1 Axes>"
            ],
            "image/png": "[encoded data removed]"
          },
          "metadata": {}
        }
      ]
    }
  ],
  "metadata": {
    "colab": {
      "provenance": [],
      "include_colab_link": true
    },
    "kernelspec": {
      "display_name": "Python 3",
      "name": "python3"
    }
  },
  "nbformat": 4,
  "nbformat_minor": 0
}